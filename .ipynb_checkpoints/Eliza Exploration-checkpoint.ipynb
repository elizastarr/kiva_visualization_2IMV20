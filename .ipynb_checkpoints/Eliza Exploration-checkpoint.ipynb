{
 "cells": [
  {
   "cell_type": "markdown",
   "metadata": {},
   "source": [
    "#### Kiva provided files\n",
    "- loans.csv\n",
    "- kiva_mpi_region_locations.csv\n",
    "- loan_theme_ids.csv\n",
    "- loan_themes_by_region.csv\n",
    "\n",
    "\n",
    "- all_kiva_loans: larger version of loans.csv with more rows and some different columns\n",
    "\n",
    "- mpi_on_regions: amount invested in a region and the biggest problems the said region has to deal with.\n",
    "    - all_loan_theme_merged_with_geo_mpi_regions: A left join from mpi_on_regions on loan_themes_by_region\n",
    "- Contribution_of_Deprivations: This table shows which dimensions and indicators contribute most to a region's MPI, which is useful for understanding the major source(s) of deprivation in a sub-national region\n",
    "- SubNational_Decomposition_MPI_2017_18\n",
    "    - missing 5.1, 5.2, and 5.4 from the datasource?\n",
    "- MPI_estimations_country_levels: all MPI data, 5 years, not joined with the Kiva tables\n",
    "- unique_regions_from_kiva_loan_themes: list of unique regions from Kiva dataset\n",
    "\n",
    "\n",
    "#### Variables OG Kiva Loans\n",
    "- id Unique ID for loan\n",
    "\n",
    "- sector High level category\n",
    "- activity More granular category\n",
    "- useExact usage of loan amount. This is manually entered text. Could use to capture key words that give detail. Do a word cloud.\n",
    "- tags\n",
    "- CONNECT TO LOAN THEME IDS TO GET LOAN THEME TYPE\n",
    "\n",
    "- borrower_genders Comma separated M,F letters, where each instance represents a single male/female in the group\n",
    "\n",
    "\n",
    "- country_codeISO country code of country in which loan was disbursed\n",
    "- countryFull country name of country in which loan was disbursed\n",
    "- regionFull region name within the country\n",
    "- currencyThe currency in which the loan was disbursed\n",
    "\n",
    "- partner_id ID of partner organization (field partner with agents)\n",
    "\n",
    "- funded_amount The amount disbursed by Kiva to the field agent(USD)\n",
    "- posted_time The time at which the loan is posted on Kiva by the field agent\n",
    "- funded_time The time at which the loan posted to Kiva gets funded by lenders completely\n",
    "- loan_amount The amount disbursed by the field agent to the borrower(USD)\n",
    "- repayment_interval\n",
    "- lender_count The total number of lenders that contributed to this loan\n",
    "- disbursed_time The time at which the loan is disbursed by the field agent to the borrower\n",
    "- term_in_months The duration for which the loan was disbursed in months\n",
    "\n",
    "\n",
    "- date UNKNOWN\n",
    "\n",
    "\n",
    "---\n",
    "id - This is identity value for each row in the dataset.\n",
    "loan_amount - It is the loan amount asked by the borrower from the organization.\n",
    "activity - It is the work in which the borrower is engaged in.\n",
    "sector - The sector to which the borrowing organization or person belongs to.\n",
    "country_code - This is country code to which borrower belongs to.\n",
    "country - Name of the country to which borrower belongs.\n",
    "region - It is the region inside the country where the organization or person resides.\n",
    "currency - currency in which loan is lended by Kiva.\n",
    "partner_id - These are the unique id provided for field partners\n",
    "posted_time - It is the date and time when the loan was posted on Kiva.\n",
    "disbursed_time - It is the date and time when the loan was disbursed to the borrower.\n",
    "funded_time - It is the date and time when the loan was funded completely.\n",
    "term_in_months - Duration in months after which the loan has to be returned by the borrower.\n",
    "lender_count - Total number of lenders who have colaboratively funded the amount.\n",
    "borrower_genders - This is list having the gender of all the borrowers involved in a loan.\n",
    "repayment_interval - How frequently the amount of loan will be paid by the borrower.\n",
    "date - Date on which loan was posted."
   ]
  },
  {
   "cell_type": "markdown",
   "metadata": {},
   "source": [
    "## Import"
   ]
  },
  {
   "cell_type": "code",
   "execution_count": 1,
   "metadata": {},
   "outputs": [],
   "source": [
    "import pandas as pd\n",
    "import numpy as np\n",
    "import seaborn as sns"
   ]
  },
  {
   "cell_type": "code",
   "execution_count": 107,
   "metadata": {},
   "outputs": [],
   "source": [
    "# OG files\n",
    "og_kiva_loans = pd.read_csv('OG_kiva/kiva_loans.csv') # Kiva product data\n",
    "og_kiva_mpi_region_locations = pd.read_csv('OG_kiva/kiva_mpi_region_locations.csv') # metadata about location\n",
    "og_loan_theme_ids = pd.read_csv('OG_kiva/loan_theme_ids.csv') # aggregated theme info\n",
    "og_loan_themes_by_region = pd.read_csv('OG_kiva/loan_themes_by_region.csv') # detailed partner and theme info\n",
    "                                                           \n",
    "# Derived files\n",
    "kiva_loans = pd.read_csv('mpi-on-regions/all_kiva_loans.csv') # version of kiva_loans\n",
    "loan_themes_by_region_JOIN_mpi_regions = pd.read_excel('mpi-on-regions/all_loan_theme_merged_with_geo_mpi_regions.xlsx')\n",
    "country_stats = pd.read_csv('mpi-on-regions/country_stats.csv')\n",
    "mpi_on_regions = pd.read_excel('mpi-on-regions/mpi_on_regions.xlsx')\n",
    "unique_region_country = pd.read_excel('mpi-on-regions/unique_regions_from_kiva_loan_themes.xlsx')\n",
    "\n",
    "# Dirty data. Missing values, unnamed columns\n",
    "Contribution_of_Deprivations = pd.read_csv('mpi-on-regions/Tables_5.3_Contribution_of_Deprivations.csv', encoding = \"ISO-8859-1\")\n",
    "SubNational_Decomposition_MPI_2017_18 = pd.read_excel('mpi-on-regions/Tables_5_SubNational_Decomposition_MPI_2017-18.xlsx')\n",
    "MPI_estimations_country_levels = pd.read_excel('mpi-on-regions/Tables_7_MPI_estimations_country_levels.xlsx')"
   ]
  },
  {
   "cell_type": "markdown",
   "metadata": {},
   "source": [
    "## Exploration\n",
    "- borrower_genders column needs changing\n",
    "- remove nan\n",
    "- merge OG datasets to make denormalized dataset at loan level\n",
    "- group the merged dataset by region, country, industry, gender etc.\n",
    "- look into date values"
   ]
  },
  {
   "cell_type": "markdown",
   "metadata": {},
   "source": [
    "#### Drop Null"
   ]
  },
  {
   "cell_type": "code",
   "execution_count": 108,
   "metadata": {
    "scrolled": false
   },
   "outputs": [
    {
     "data": {
      "text/plain": [
       "id                     0.000000\n",
       "funded_amount          0.000000\n",
       "loan_amount            0.000000\n",
       "activity               0.000000\n",
       "sector                 0.000000\n",
       "use                    0.630508\n",
       "country_code           0.001192\n",
       "country                0.000000\n",
       "region                 8.462392\n",
       "currency               0.000000\n",
       "partner_id             2.012351\n",
       "posted_time            0.000000\n",
       "disbursed_time         0.356970\n",
       "funded_time            7.200632\n",
       "term_in_months         0.000000\n",
       "lender_count           0.000000\n",
       "tags                  25.538546\n",
       "borrower_genders       0.628869\n",
       "repayment_interval     0.000000\n",
       "date                   0.000000\n",
       "dtype: float64"
      ]
     },
     "execution_count": 108,
     "metadata": {},
     "output_type": "execute_result"
    }
   ],
   "source": [
    "# don't drop na's: use, tags, funded time and disbursed time (marks incomplete?)\n",
    "og_kiva_loans.isnull().sum()/og_kiva_loans.shape[0]*100"
   ]
  },
  {
   "cell_type": "code",
   "execution_count": 109,
   "metadata": {},
   "outputs": [],
   "source": [
    "# let's drop these. It leaves us with 92% of the original dataset.\n",
    "og_kiva_loans.dropna(inplace=False, subset=['borrower_genders','partner_id','region','country_code','funded_time']).shape[0]/og_kiva_loans.shape[0]*100\n",
    "og_kiva_loans_drop_na = og_kiva_loans.dropna(inplace=False, subset=['borrower_genders','partner_id','region','country_code','funded_time'])"
   ]
  },
  {
   "cell_type": "markdown",
   "metadata": {},
   "source": [
    "#### Borrower gender\n",
    "- num_borrowers\n",
    "- num_female\n",
    "- num_male\n",
    "- has_female\n",
    "- has_male"
   ]
  },
  {
   "cell_type": "code",
   "execution_count": null,
   "metadata": {},
   "outputs": [],
   "source": []
  },
  {
   "cell_type": "code",
   "execution_count": 110,
   "metadata": {},
   "outputs": [
    {
     "name": "stderr",
     "output_type": "stream",
     "text": [
      "/Users/elizastarr/anaconda3/envs/boomtown/lib/python3.7/site-packages/ipykernel_launcher.py:1: SettingWithCopyWarning: \n",
      "A value is trying to be set on a copy of a slice from a DataFrame.\n",
      "Try using .loc[row_indexer,col_indexer] = value instead\n",
      "\n",
      "See the caveats in the documentation: http://pandas.pydata.org/pandas-docs/stable/user_guide/indexing.html#returning-a-view-versus-a-copy\n",
      "  \"\"\"Entry point for launching an IPython kernel.\n"
     ]
    }
   ],
   "source": [
    "og_kiva_loans_drop_na['num_borrowers'] = og_kiva_loans_drop_na['borrower_genders'].apply(lambda x: len(str(x).split(',')))"
   ]
  },
  {
   "cell_type": "code",
   "execution_count": 111,
   "metadata": {},
   "outputs": [
    {
     "name": "stderr",
     "output_type": "stream",
     "text": [
      "/Users/elizastarr/anaconda3/envs/boomtown/lib/python3.7/site-packages/ipykernel_launcher.py:1: SettingWithCopyWarning: \n",
      "A value is trying to be set on a copy of a slice from a DataFrame.\n",
      "Try using .loc[row_indexer,col_indexer] = value instead\n",
      "\n",
      "See the caveats in the documentation: http://pandas.pydata.org/pandas-docs/stable/user_guide/indexing.html#returning-a-view-versus-a-copy\n",
      "  \"\"\"Entry point for launching an IPython kernel.\n",
      "/Users/elizastarr/anaconda3/envs/boomtown/lib/python3.7/site-packages/ipykernel_launcher.py:4: SettingWithCopyWarning: \n",
      "A value is trying to be set on a copy of a slice from a DataFrame.\n",
      "Try using .loc[row_indexer,col_indexer] = value instead\n",
      "\n",
      "See the caveats in the documentation: http://pandas.pydata.org/pandas-docs/stable/user_guide/indexing.html#returning-a-view-versus-a-copy\n",
      "  after removing the cwd from sys.path.\n",
      "/Users/elizastarr/anaconda3/envs/boomtown/lib/python3.7/site-packages/ipykernel_launcher.py:7: SettingWithCopyWarning: \n",
      "A value is trying to be set on a copy of a slice from a DataFrame.\n",
      "Try using .loc[row_indexer,col_indexer] = value instead\n",
      "\n",
      "See the caveats in the documentation: http://pandas.pydata.org/pandas-docs/stable/user_guide/indexing.html#returning-a-view-versus-a-copy\n",
      "  import sys\n"
     ]
    }
   ],
   "source": [
    "og_kiva_loans_drop_na['only_male_borrowers'] = og_kiva_loans_drop_na['borrower_genders'].apply(lambda x: 1 if ((' male' in str(x) or 'male'==str(x)) and 'female' not in str(x)) else 0)\n",
    "\n",
    "\n",
    "og_kiva_loans_drop_na['only_female_borrowers'] = og_kiva_loans_drop_na['borrower_genders'].apply(lambda x: 1 if ('female' in str(x) and ' male' not in str(x)) else 0)\n",
    "\n",
    "\n",
    "og_kiva_loans_drop_na['both_male_female_borrowers'] = og_kiva_loans_drop_na['borrower_genders'].apply(lambda x: 1 if (' male' in str(x) and 'female' in str(x)) else 0)\n"
   ]
  },
  {
   "cell_type": "markdown",
   "metadata": {},
   "source": [
    "#### merge \n",
    "- all og datasets with loan id as primary key."
   ]
  },
  {
   "cell_type": "code",
   "execution_count": 112,
   "metadata": {},
   "outputs": [
    {
     "name": "stderr",
     "output_type": "stream",
     "text": [
      "/Users/elizastarr/anaconda3/envs/boomtown/lib/python3.7/site-packages/ipykernel_launcher.py:1: SettingWithCopyWarning: \n",
      "A value is trying to be set on a copy of a slice from a DataFrame.\n",
      "Try using .loc[row_indexer,col_indexer] = value instead\n",
      "\n",
      "See the caveats in the documentation: http://pandas.pydata.org/pandas-docs/stable/user_guide/indexing.html#returning-a-view-versus-a-copy\n",
      "  \"\"\"Entry point for launching an IPython kernel.\n"
     ]
    }
   ],
   "source": [
    "og_kiva_loans_drop_na['time_from_posted_to_funded'] = pd.to_datetime(og_kiva_loans_drop_na['funded_time']) - pd.to_datetime(og_kiva_loans_drop_na['posted_time'])\n"
   ]
  },
  {
   "cell_type": "code",
   "execution_count": 143,
   "metadata": {},
   "outputs": [
    {
     "ename": "ValueError",
     "evalue": "Can only index by location with a [integer, integer slice (START point is INCLUDED, END point is EXCLUDED), listlike of integers, boolean array]",
     "output_type": "error",
     "traceback": [
      "\u001b[0;31m---------------------------------------------------------------------------\u001b[0m",
      "\u001b[0;31mValueError\u001b[0m                                Traceback (most recent call last)",
      "\u001b[0;32m~/anaconda3/envs/boomtown/lib/python3.7/site-packages/pandas/core/indexing.py\u001b[0m in \u001b[0;36m_convert_to_indexer\u001b[0;34m(self, obj, axis, is_setter, raise_missing)\u001b[0m\n\u001b[1;32m   2149\u001b[0m         \u001b[0;32mtry\u001b[0m\u001b[0;34m:\u001b[0m\u001b[0;34m\u001b[0m\u001b[0;34m\u001b[0m\u001b[0m\n\u001b[0;32m-> 2150\u001b[0;31m             \u001b[0mself\u001b[0m\u001b[0;34m.\u001b[0m\u001b[0m_validate_key\u001b[0m\u001b[0;34m(\u001b[0m\u001b[0mobj\u001b[0m\u001b[0;34m,\u001b[0m \u001b[0maxis\u001b[0m\u001b[0;34m)\u001b[0m\u001b[0;34m\u001b[0m\u001b[0;34m\u001b[0m\u001b[0m\n\u001b[0m\u001b[1;32m   2151\u001b[0m             \u001b[0;32mreturn\u001b[0m \u001b[0mobj\u001b[0m\u001b[0;34m\u001b[0m\u001b[0;34m\u001b[0m\u001b[0m\n",
      "\u001b[0;32m~/anaconda3/envs/boomtown/lib/python3.7/site-packages/pandas/core/indexing.py\u001b[0m in \u001b[0;36m_validate_key\u001b[0;34m(self, key, axis)\u001b[0m\n\u001b[1;32m   2009\u001b[0m                 \u001b[0;34m\"Can only index by location with \"\u001b[0m\u001b[0;34m\u001b[0m\u001b[0;34m\u001b[0m\u001b[0m\n\u001b[0;32m-> 2010\u001b[0;31m                 \u001b[0;34m\"a [{types}]\"\u001b[0m\u001b[0;34m.\u001b[0m\u001b[0mformat\u001b[0m\u001b[0;34m(\u001b[0m\u001b[0mtypes\u001b[0m\u001b[0;34m=\u001b[0m\u001b[0mself\u001b[0m\u001b[0;34m.\u001b[0m\u001b[0m_valid_types\u001b[0m\u001b[0;34m)\u001b[0m\u001b[0;34m\u001b[0m\u001b[0;34m\u001b[0m\u001b[0m\n\u001b[0m\u001b[1;32m   2011\u001b[0m             )\n",
      "\u001b[0;31mValueError\u001b[0m: Can only index by location with a [integer, integer slice (START point is INCLUDED, END point is EXCLUDED), listlike of integers, boolean array]",
      "\nDuring handling of the above exception, another exception occurred:\n",
      "\u001b[0;31mValueError\u001b[0m                                Traceback (most recent call last)",
      "\u001b[0;32m<ipython-input-143-24a8f5ef15fc>\u001b[0m in \u001b[0;36m<module>\u001b[0;34m\u001b[0m\n\u001b[1;32m      1\u001b[0m \u001b[0;32mfor\u001b[0m \u001b[0minx\u001b[0m\u001b[0;34m,\u001b[0m \u001b[0mrow\u001b[0m \u001b[0;32min\u001b[0m \u001b[0mog_kiva_loans_drop_na\u001b[0m\u001b[0;34m.\u001b[0m\u001b[0miterrows\u001b[0m\u001b[0;34m(\u001b[0m\u001b[0;34m)\u001b[0m\u001b[0;34m:\u001b[0m\u001b[0;34m\u001b[0m\u001b[0;34m\u001b[0m\u001b[0m\n\u001b[0;32m----> 2\u001b[0;31m    \u001b[0mog_kiva_loans_drop_na\u001b[0m\u001b[0;34m.\u001b[0m\u001b[0miloc\u001b[0m\u001b[0;34m[\u001b[0m\u001b[0minx\u001b[0m\u001b[0;34m,\u001b[0m\u001b[0;34m'time_from_posted_to_funded'\u001b[0m\u001b[0;34m]\u001b[0m \u001b[0;34m=\u001b[0m \u001b[0mrow\u001b[0m\u001b[0;34m[\u001b[0m\u001b[0;34m'time_from_posted_to_funded'\u001b[0m\u001b[0;34m]\u001b[0m\u001b[0;34m.\u001b[0m\u001b[0mseconds\u001b[0m\u001b[0;34m/\u001b[0m\u001b[0;36m60\u001b[0m\u001b[0;34m\u001b[0m\u001b[0;34m\u001b[0m\u001b[0m\n\u001b[0m",
      "\u001b[0;32m~/anaconda3/envs/boomtown/lib/python3.7/site-packages/pandas/core/indexing.py\u001b[0m in \u001b[0;36m__setitem__\u001b[0;34m(self, key, value)\u001b[0m\n\u001b[1;32m    199\u001b[0m         \u001b[0;32melse\u001b[0m\u001b[0;34m:\u001b[0m\u001b[0;34m\u001b[0m\u001b[0;34m\u001b[0m\u001b[0m\n\u001b[1;32m    200\u001b[0m             \u001b[0mkey\u001b[0m \u001b[0;34m=\u001b[0m \u001b[0mcom\u001b[0m\u001b[0;34m.\u001b[0m\u001b[0mapply_if_callable\u001b[0m\u001b[0;34m(\u001b[0m\u001b[0mkey\u001b[0m\u001b[0;34m,\u001b[0m \u001b[0mself\u001b[0m\u001b[0;34m.\u001b[0m\u001b[0mobj\u001b[0m\u001b[0;34m)\u001b[0m\u001b[0;34m\u001b[0m\u001b[0;34m\u001b[0m\u001b[0m\n\u001b[0;32m--> 201\u001b[0;31m         \u001b[0mindexer\u001b[0m \u001b[0;34m=\u001b[0m \u001b[0mself\u001b[0m\u001b[0;34m.\u001b[0m\u001b[0m_get_setitem_indexer\u001b[0m\u001b[0;34m(\u001b[0m\u001b[0mkey\u001b[0m\u001b[0;34m)\u001b[0m\u001b[0;34m\u001b[0m\u001b[0;34m\u001b[0m\u001b[0m\n\u001b[0m\u001b[1;32m    202\u001b[0m         \u001b[0mself\u001b[0m\u001b[0;34m.\u001b[0m\u001b[0m_setitem_with_indexer\u001b[0m\u001b[0;34m(\u001b[0m\u001b[0mindexer\u001b[0m\u001b[0;34m,\u001b[0m \u001b[0mvalue\u001b[0m\u001b[0;34m)\u001b[0m\u001b[0;34m\u001b[0m\u001b[0;34m\u001b[0m\u001b[0m\n\u001b[1;32m    203\u001b[0m \u001b[0;34m\u001b[0m\u001b[0m\n",
      "\u001b[0;32m~/anaconda3/envs/boomtown/lib/python3.7/site-packages/pandas/core/indexing.py\u001b[0m in \u001b[0;36m_get_setitem_indexer\u001b[0;34m(self, key)\u001b[0m\n\u001b[1;32m    177\u001b[0m         \u001b[0;32mif\u001b[0m \u001b[0misinstance\u001b[0m\u001b[0;34m(\u001b[0m\u001b[0mkey\u001b[0m\u001b[0;34m,\u001b[0m \u001b[0mtuple\u001b[0m\u001b[0;34m)\u001b[0m\u001b[0;34m:\u001b[0m\u001b[0;34m\u001b[0m\u001b[0;34m\u001b[0m\u001b[0m\n\u001b[1;32m    178\u001b[0m             \u001b[0;32mtry\u001b[0m\u001b[0;34m:\u001b[0m\u001b[0;34m\u001b[0m\u001b[0;34m\u001b[0m\u001b[0m\n\u001b[0;32m--> 179\u001b[0;31m                 \u001b[0;32mreturn\u001b[0m \u001b[0mself\u001b[0m\u001b[0;34m.\u001b[0m\u001b[0m_convert_tuple\u001b[0m\u001b[0;34m(\u001b[0m\u001b[0mkey\u001b[0m\u001b[0;34m,\u001b[0m \u001b[0mis_setter\u001b[0m\u001b[0;34m=\u001b[0m\u001b[0;32mTrue\u001b[0m\u001b[0;34m)\u001b[0m\u001b[0;34m\u001b[0m\u001b[0;34m\u001b[0m\u001b[0m\n\u001b[0m\u001b[1;32m    180\u001b[0m             \u001b[0;32mexcept\u001b[0m \u001b[0mIndexingError\u001b[0m\u001b[0;34m:\u001b[0m\u001b[0;34m\u001b[0m\u001b[0;34m\u001b[0m\u001b[0m\n\u001b[1;32m    181\u001b[0m                 \u001b[0;32mpass\u001b[0m\u001b[0;34m\u001b[0m\u001b[0;34m\u001b[0m\u001b[0m\n",
      "\u001b[0;32m~/anaconda3/envs/boomtown/lib/python3.7/site-packages/pandas/core/indexing.py\u001b[0m in \u001b[0;36m_convert_tuple\u001b[0;34m(self, key, is_setter)\u001b[0m\n\u001b[1;32m    257\u001b[0m                 \u001b[0;32mif\u001b[0m \u001b[0mi\u001b[0m \u001b[0;34m>=\u001b[0m \u001b[0mself\u001b[0m\u001b[0;34m.\u001b[0m\u001b[0mobj\u001b[0m\u001b[0;34m.\u001b[0m\u001b[0mndim\u001b[0m\u001b[0;34m:\u001b[0m\u001b[0;34m\u001b[0m\u001b[0;34m\u001b[0m\u001b[0m\n\u001b[1;32m    258\u001b[0m                     \u001b[0;32mraise\u001b[0m \u001b[0mIndexingError\u001b[0m\u001b[0;34m(\u001b[0m\u001b[0;34m\"Too many indexers\"\u001b[0m\u001b[0;34m)\u001b[0m\u001b[0;34m\u001b[0m\u001b[0;34m\u001b[0m\u001b[0m\n\u001b[0;32m--> 259\u001b[0;31m                 \u001b[0midx\u001b[0m \u001b[0;34m=\u001b[0m \u001b[0mself\u001b[0m\u001b[0;34m.\u001b[0m\u001b[0m_convert_to_indexer\u001b[0m\u001b[0;34m(\u001b[0m\u001b[0mk\u001b[0m\u001b[0;34m,\u001b[0m \u001b[0maxis\u001b[0m\u001b[0;34m=\u001b[0m\u001b[0mi\u001b[0m\u001b[0;34m,\u001b[0m \u001b[0mis_setter\u001b[0m\u001b[0;34m=\u001b[0m\u001b[0mis_setter\u001b[0m\u001b[0;34m)\u001b[0m\u001b[0;34m\u001b[0m\u001b[0;34m\u001b[0m\u001b[0m\n\u001b[0m\u001b[1;32m    260\u001b[0m                 \u001b[0mkeyidx\u001b[0m\u001b[0;34m.\u001b[0m\u001b[0mappend\u001b[0m\u001b[0;34m(\u001b[0m\u001b[0midx\u001b[0m\u001b[0;34m)\u001b[0m\u001b[0;34m\u001b[0m\u001b[0;34m\u001b[0m\u001b[0m\n\u001b[1;32m    261\u001b[0m         \u001b[0;32mreturn\u001b[0m \u001b[0mtuple\u001b[0m\u001b[0;34m(\u001b[0m\u001b[0mkeyidx\u001b[0m\u001b[0;34m)\u001b[0m\u001b[0;34m\u001b[0m\u001b[0;34m\u001b[0m\u001b[0m\n",
      "\u001b[0;32m~/anaconda3/envs/boomtown/lib/python3.7/site-packages/pandas/core/indexing.py\u001b[0m in \u001b[0;36m_convert_to_indexer\u001b[0;34m(self, obj, axis, is_setter, raise_missing)\u001b[0m\n\u001b[1;32m   2153\u001b[0m             raise ValueError(\n\u001b[1;32m   2154\u001b[0m                 \u001b[0;34m\"Can only index by location with \"\u001b[0m\u001b[0;34m\u001b[0m\u001b[0;34m\u001b[0m\u001b[0m\n\u001b[0;32m-> 2155\u001b[0;31m                 \u001b[0;34m\"a [{types}]\"\u001b[0m\u001b[0;34m.\u001b[0m\u001b[0mformat\u001b[0m\u001b[0;34m(\u001b[0m\u001b[0mtypes\u001b[0m\u001b[0;34m=\u001b[0m\u001b[0mself\u001b[0m\u001b[0;34m.\u001b[0m\u001b[0m_valid_types\u001b[0m\u001b[0;34m)\u001b[0m\u001b[0;34m\u001b[0m\u001b[0;34m\u001b[0m\u001b[0m\n\u001b[0m\u001b[1;32m   2156\u001b[0m             )\n\u001b[1;32m   2157\u001b[0m \u001b[0;34m\u001b[0m\u001b[0m\n",
      "\u001b[0;31mValueError\u001b[0m: Can only index by location with a [integer, integer slice (START point is INCLUDED, END point is EXCLUDED), listlike of integers, boolean array]"
     ]
    }
   ],
   "source": [
    "for inx, row in og_kiva_loans_drop_na.iterrows():\n",
    "   og_kiva_loans_drop_na.iloc[inx,'time_from_posted_to_funded'] = row['time_from_posted_to_funded'].seconds/60"
   ]
  },
  {
   "cell_type": "code",
   "execution_count": 119,
   "metadata": {},
   "outputs": [],
   "source": [
    "og_kiva_loans_drop_na.loc[:,['id', 'loan_amount', 'activity', 'sector',\n",
    "                           'country_code', 'country', 'region', 'currency', \n",
    "                           'posted_time', 'funded_time', \n",
    "                            'term_in_months',\n",
    "                           'lender_count', 'repayment_interval',\n",
    "                           'borrower_genders', 'num_borrowers', 'only_male_borrowers', 'only_female_borrowers',\n",
    "                           'both_male_female_borrowers',\n",
    "                           'time_from_posted_to_funded']].sample(200).to_csv('og_kiva_loans_sample.csv', index=False)"
   ]
  },
  {
   "cell_type": "code",
   "execution_count": 120,
   "metadata": {},
   "outputs": [],
   "source": [
    "og_kiva_loans_drop_na.loc[:,['id', 'loan_amount', 'activity', 'sector',\n",
    "                           'country_code', 'country', 'region', 'currency', \n",
    "                           'posted_time', 'funded_time', \n",
    "                            'term_in_months',\n",
    "                           'lender_count', 'repayment_interval',\n",
    "                           'borrower_genders', 'num_borrowers', 'only_male_borrowers', 'only_female_borrowers',\n",
    "                           'both_male_female_borrowers',\n",
    "                           'time_from_posted_to_funded']].to_csv('og_kiva_loans.csv', index=False)"
   ]
  },
  {
   "cell_type": "markdown",
   "metadata": {},
   "source": [
    "# IMPORT SUPPLEMANTARY DATA"
   ]
  },
  {
   "cell_type": "code",
   "execution_count": 124,
   "metadata": {},
   "outputs": [],
   "source": [
    "df = pd.read_csv('og_kiva_loans.csv')"
   ]
  },
  {
   "cell_type": "code",
   "execution_count": null,
   "metadata": {},
   "outputs": [],
   "source": []
  }
 ],
 "metadata": {
  "kernelspec": {
   "display_name": "Python 3",
   "language": "python",
   "name": "python3"
  },
  "language_info": {
   "codemirror_mode": {
    "name": "ipython",
    "version": 3
   },
   "file_extension": ".py",
   "mimetype": "text/x-python",
   "name": "python",
   "nbconvert_exporter": "python",
   "pygments_lexer": "ipython3",
   "version": "3.7.4"
  }
 },
 "nbformat": 4,
 "nbformat_minor": 2
}
